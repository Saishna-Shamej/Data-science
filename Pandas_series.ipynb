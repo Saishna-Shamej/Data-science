{
  "nbformat": 4,
  "nbformat_minor": 0,
  "metadata": {
    "colab": {
      "provenance": [],
      "authorship_tag": "ABX9TyMmteF2LMO0f82uRj76oDn9",
      "include_colab_link": true
    },
    "kernelspec": {
      "name": "python3",
      "display_name": "Python 3"
    },
    "language_info": {
      "name": "python"
    }
  },
  "cells": [
    {
      "cell_type": "markdown",
      "metadata": {
        "id": "view-in-github",
        "colab_type": "text"
      },
      "source": [
        "<a href=\"https://colab.research.google.com/github/Saishna-Shamej/Data-science/blob/main/Pandas_series.ipynb\" target=\"_parent\"><img src=\"https://colab.research.google.com/assets/colab-badge.svg\" alt=\"Open In Colab\"/></a>"
      ]
    },
    {
      "cell_type": "markdown",
      "source": [
        "**Series data type*\n",
        "\n",
        "It can have axis labels, i.e, it can be indexed by a label instead of just a number.\n",
        "It also doesn't need to hold numeric data, it can hold any arbitrary Python Object."
      ],
      "metadata": {
        "id": "TwULQzcKFSq0"
      }
    },
    {
      "cell_type": "code",
      "source": [
        "labels = ['a','b','c']\n",
        "my_list = [10,20,30]\n",
        "arr = np.array([10,20,30])\n",
        "d = {'a':10,'b':20,'c':30}"
      ],
      "metadata": {
        "id": "2npj4i4CBgEz"
      },
      "execution_count": 3,
      "outputs": []
    },
    {
      "cell_type": "code",
      "source": [
        "pd.Series(data=my_list)"
      ],
      "metadata": {
        "colab": {
          "base_uri": "https://localhost:8080/"
        },
        "id": "5ftpx5BcBvRR",
        "outputId": "7c8719ea-bb86-4647-f906-325c9e375ae8"
      },
      "execution_count": 4,
      "outputs": [
        {
          "output_type": "execute_result",
          "data": {
            "text/plain": [
              "0    10\n",
              "1    20\n",
              "2    30\n",
              "dtype: int64"
            ]
          },
          "metadata": {},
          "execution_count": 4
        }
      ]
    },
    {
      "cell_type": "code",
      "source": [
        "pd.Series(data=my_list,index=labels)"
      ],
      "metadata": {
        "colab": {
          "base_uri": "https://localhost:8080/"
        },
        "id": "N3F8wSbqBv6_",
        "outputId": "48302623-f0ca-44a3-9acf-74b1526d6d6b"
      },
      "execution_count": 5,
      "outputs": [
        {
          "output_type": "execute_result",
          "data": {
            "text/plain": [
              "a    10\n",
              "b    20\n",
              "c    30\n",
              "dtype: int64"
            ]
          },
          "metadata": {},
          "execution_count": 5
        }
      ]
    },
    {
      "cell_type": "code",
      "source": [
        "pd.Series(my_list,labels)"
      ],
      "metadata": {
        "colab": {
          "base_uri": "https://localhost:8080/"
        },
        "id": "vTMVUzixB1w9",
        "outputId": "8844eeb3-90cc-4bc9-d165-5a53e45ab7e1"
      },
      "execution_count": 6,
      "outputs": [
        {
          "output_type": "execute_result",
          "data": {
            "text/plain": [
              "a    10\n",
              "b    20\n",
              "c    30\n",
              "dtype: int64"
            ]
          },
          "metadata": {},
          "execution_count": 6
        }
      ]
    },
    {
      "cell_type": "code",
      "source": [
        "pd.Series(arr)"
      ],
      "metadata": {
        "colab": {
          "base_uri": "https://localhost:8080/"
        },
        "id": "VZobbZX5B-JS",
        "outputId": "4ce41bae-3ab9-466a-894d-b7f233bb4af1"
      },
      "execution_count": 7,
      "outputs": [
        {
          "output_type": "execute_result",
          "data": {
            "text/plain": [
              "0    10\n",
              "1    20\n",
              "2    30\n",
              "dtype: int64"
            ]
          },
          "metadata": {},
          "execution_count": 7
        }
      ]
    },
    {
      "cell_type": "code",
      "source": [
        "pd.Series(arr,labels)"
      ],
      "metadata": {
        "colab": {
          "base_uri": "https://localhost:8080/"
        },
        "id": "ami1rs5YCDEr",
        "outputId": "53be26b8-ef25-4c43-859b-0f6403899934"
      },
      "execution_count": 8,
      "outputs": [
        {
          "output_type": "execute_result",
          "data": {
            "text/plain": [
              "a    10\n",
              "b    20\n",
              "c    30\n",
              "dtype: int64"
            ]
          },
          "metadata": {},
          "execution_count": 8
        }
      ]
    },
    {
      "cell_type": "code",
      "source": [
        "pd.Series(d)"
      ],
      "metadata": {
        "colab": {
          "base_uri": "https://localhost:8080/"
        },
        "id": "lAY1ysbnCGnP",
        "outputId": "113398b9-90bd-4f9a-fea1-38b07139523d"
      },
      "execution_count": 9,
      "outputs": [
        {
          "output_type": "execute_result",
          "data": {
            "text/plain": [
              "a    10\n",
              "b    20\n",
              "c    30\n",
              "dtype: int64"
            ]
          },
          "metadata": {},
          "execution_count": 9
        }
      ]
    },
    {
      "cell_type": "code",
      "source": [
        "pd.Series(data=labels)"
      ],
      "metadata": {
        "colab": {
          "base_uri": "https://localhost:8080/"
        },
        "id": "qMAt9nJpCJ-e",
        "outputId": "4dee435d-82d1-4c7b-d5b1-95ebcf07f467"
      },
      "execution_count": 10,
      "outputs": [
        {
          "output_type": "execute_result",
          "data": {
            "text/plain": [
              "0    a\n",
              "1    b\n",
              "2    c\n",
              "dtype: object"
            ]
          },
          "metadata": {},
          "execution_count": 10
        }
      ]
    },
    {
      "cell_type": "code",
      "source": [
        "pd.Series([sum,print,len])"
      ],
      "metadata": {
        "colab": {
          "base_uri": "https://localhost:8080/"
        },
        "id": "8kduzDNrCcML",
        "outputId": "33d02173-29e2-4914-ecc6-dd1a40174714"
      },
      "execution_count": 11,
      "outputs": [
        {
          "output_type": "execute_result",
          "data": {
            "text/plain": [
              "0      <built-in function sum>\n",
              "1    <built-in function print>\n",
              "2      <built-in function len>\n",
              "dtype: object"
            ]
          },
          "metadata": {},
          "execution_count": 11
        }
      ]
    },
    {
      "cell_type": "code",
      "source": [
        "ser1=pd.Series([1,2,3,4],index=['USA','GERMANY','EUROPE','AUSTRALIA'])\n",
        "ser1"
      ],
      "metadata": {
        "colab": {
          "base_uri": "https://localhost:8080/"
        },
        "id": "NdxCGeDcCi-h",
        "outputId": "8e510a6b-76d6-4eae-f719-e69ce2692288"
      },
      "execution_count": 15,
      "outputs": [
        {
          "output_type": "execute_result",
          "data": {
            "text/plain": [
              "USA          1\n",
              "GERMANY      2\n",
              "EUROPE       3\n",
              "AUSTRALIA    4\n",
              "dtype: int64"
            ]
          },
          "metadata": {},
          "execution_count": 15
        }
      ]
    },
    {
      "cell_type": "code",
      "source": [
        "ser2=pd.Series([1,2,3,4],index=['USA','LONDON','ITALY','AUSTRALIA'])\n",
        "ser2"
      ],
      "metadata": {
        "colab": {
          "base_uri": "https://localhost:8080/"
        },
        "id": "Tgv8tnkeC3kz",
        "outputId": "28227bcf-f3be-4908-8701-ae08d1452367"
      },
      "execution_count": 19,
      "outputs": [
        {
          "output_type": "execute_result",
          "data": {
            "text/plain": [
              "USA          1\n",
              "LONDON       2\n",
              "ITALY        3\n",
              "AUSTRALIA    4\n",
              "dtype: int64"
            ]
          },
          "metadata": {},
          "execution_count": 19
        }
      ]
    },
    {
      "cell_type": "code",
      "source": [
        "ser1+ser2"
      ],
      "metadata": {
        "colab": {
          "base_uri": "https://localhost:8080/"
        },
        "id": "wUV-P6TyDMw_",
        "outputId": "efccc310-03c6-48ae-db23-5b338b0dd91c"
      },
      "execution_count": 20,
      "outputs": [
        {
          "output_type": "execute_result",
          "data": {
            "text/plain": [
              "AUSTRALIA    8.0\n",
              "EUROPE       NaN\n",
              "GERMANY      NaN\n",
              "ITALY        NaN\n",
              "LONDON       NaN\n",
              "USA          2.0\n",
              "dtype: float64"
            ]
          },
          "metadata": {},
          "execution_count": 20
        }
      ]
    },
    {
      "cell_type": "code",
      "source": [
        "ser1['USA']"
      ],
      "metadata": {
        "colab": {
          "base_uri": "https://localhost:8080/"
        },
        "id": "kMJZUdoaDSLw",
        "outputId": "1760b9c5-e8cf-4aed-bd83-1b12fb7b5fa4"
      },
      "execution_count": 23,
      "outputs": [
        {
          "output_type": "execute_result",
          "data": {
            "text/plain": [
              "1"
            ]
          },
          "metadata": {},
          "execution_count": 23
        }
      ]
    },
    {
      "cell_type": "code",
      "source": [
        "ser2['AUSTRALIA']"
      ],
      "metadata": {
        "colab": {
          "base_uri": "https://localhost:8080/"
        },
        "id": "uVcdYj9DDfNc",
        "outputId": "d77b81f5-7039-4330-8f7d-e3f538278b83"
      },
      "execution_count": 25,
      "outputs": [
        {
          "output_type": "execute_result",
          "data": {
            "text/plain": [
              "4"
            ]
          },
          "metadata": {},
          "execution_count": 25
        }
      ]
    },
    {
      "cell_type": "code",
      "source": [],
      "metadata": {
        "id": "ZVjz3XjHDrnL"
      },
      "execution_count": null,
      "outputs": []
    }
  ]
}